{
  "nbformat": 4,
  "nbformat_minor": 0,
  "metadata": {
    "colab": {
      "provenance": [],
      "authorship_tag": "ABX9TyNWQMsPN0vDgS51rLxuIH4f",
      "include_colab_link": true
    },
    "kernelspec": {
      "name": "python3",
      "display_name": "Python 3"
    },
    "language_info": {
      "name": "python"
    }
  },
  "cells": [
    {
      "cell_type": "markdown",
      "metadata": {
        "id": "view-in-github",
        "colab_type": "text"
      },
      "source": [
        "<a href=\"https://colab.research.google.com/github/2303A52144/ExplainableAI_Assignment/blob/main/ExplainableAI_Assignment.ipynb\" target=\"_parent\"><img src=\"https://colab.research.google.com/assets/colab-badge.svg\" alt=\"Open In Colab\"/></a>"
      ]
    },
    {
      "cell_type": "markdown",
      "source": [
        "# Problem - 1"
      ],
      "metadata": {
        "id": "iTKATFylC-fY"
      }
    },
    {
      "cell_type": "code",
      "execution_count": 2,
      "metadata": {
        "colab": {
          "base_uri": "https://localhost:8080/"
        },
        "id": "Dg0sgKB4C9fn",
        "outputId": "def64d6c-a0a3-4edd-8e24-56b30368433a"
      },
      "outputs": [
        {
          "output_type": "stream",
          "name": "stdout",
          "text": [
            "Linear Regression Coefficients:\n",
            "Intercept: 6.714285714285715\n",
            "Slope: 9.357142857142854\n",
            "\n",
            "Baseline: 14.2\n",
            "\n",
            "Table of SHAP values and predictions:\n",
            "   Webinars_Attended  Sign_ups  Predicted  SHAP_Value  Baseline+SHAP  \\\n",
            "0                  0         5   6.714286   -7.485714       6.714286   \n",
            "1                  1        15  16.071429    1.871429      16.071429   \n",
            "2                  2        25  25.428571   11.228571      25.428571   \n",
            "3                  0         8   6.714286   -7.485714       6.714286   \n",
            "4                  1        18  16.071429    1.871429      16.071429   \n",
            "\n",
            "  Prediction_Comparison  \n",
            "0       Over Prediction  \n",
            "1       Over Prediction  \n",
            "2       Over Prediction  \n",
            "3      Under Prediction  \n",
            "4      Under Prediction  \n"
          ]
        }
      ],
      "source": [
        "import pandas as pd\n",
        "import numpy as np\n",
        "from sklearn.linear_model import LinearRegression\n",
        "\n",
        "data = pd.DataFrame({\n",
        "    \"Webinars_Attended\": [0, 1, 2, 0, 1],\n",
        "    \"Sign_ups\": [5, 15, 25, 8, 18]\n",
        "})\n",
        "\n",
        "X = data[[\"Webinars_Attended\"]]\n",
        "y = data[\"Sign_ups\"]\n",
        "\n",
        "model = LinearRegression()\n",
        "model.fit(X, y)\n",
        "\n",
        "slope = model.coef_[0]\n",
        "intercept = model.intercept_\n",
        "\n",
        "baseline = y.mean()\n",
        "\n",
        "data[\"Predicted\"] = model.predict(X)\n",
        "\n",
        "data[\"SHAP_Value\"] = data[\"Predicted\"] - baseline\n",
        "\n",
        "data[\"Baseline+SHAP\"] = baseline + data[\"SHAP_Value\"]\n",
        "\n",
        "data[\"Prediction_Comparison\"] = np.where(data[\"Predicted\"] > y, \"Over Prediction\",\n",
        "                                         np.where(data[\"Predicted\"] < y, \"Under Prediction\", \"Exact\"))\n",
        "\n",
        "print(\"Linear Regression Coefficients:\")\n",
        "print(f\"Intercept: {intercept}\")\n",
        "print(f\"Slope: {slope}\")\n",
        "print(\"\\nBaseline:\", baseline)\n",
        "print(\"\\nTable of SHAP values and predictions:\")\n",
        "print(data)\n"
      ]
    },
    {
      "cell_type": "markdown",
      "source": [
        "# Problem - 2"
      ],
      "metadata": {
        "id": "NpjcZ7PNDRd-"
      }
    },
    {
      "cell_type": "code",
      "source": [
        "import pandas as pd\n",
        "import numpy as np\n",
        "from sklearn.linear_model import LinearRegression\n",
        "\n",
        "data = pd.DataFrame({\n",
        "    \"Webinars\": [3, 2, 1, 4, 2],\n",
        "    \"Blogs\": [5, 3, 4, 2, 1],\n",
        "    \"Signups\": [60, 45, 40, 55, 35]\n",
        "})\n",
        "\n",
        "X = data[[\"Webinars\", \"Blogs\"]]\n",
        "y = data[\"Signups\"]\n",
        "\n",
        "model = LinearRegression()\n",
        "model.fit(X, y)\n",
        "\n",
        "intercept = model.intercept_\n",
        "coef_webinars = model.coef_[0]\n",
        "coef_blogs = model.coef_[1]\n",
        "\n",
        "baseline = y.mean()\n",
        "\n",
        "data[\"Predicted\"] = model.predict(X)\n",
        "\n",
        "data[\"SHAP_Webinars\"] = coef_webinars * (data[\"Webinars\"] - X[\"Webinars\"].mean())\n",
        "data[\"SHAP_Blogs\"] = coef_blogs * (data[\"Blogs\"] - X[\"Blogs\"].mean())\n",
        "\n",
        "data[\"Baseline+SHAP\"] = baseline + data[\"SHAP_Webinars\"] + data[\"SHAP_Blogs\"]\n",
        "\n",
        "data[\"Prediction_Comparison\"] = np.where(data[\"Predicted\"] > y, \"Over Prediction\",\n",
        "                                         np.where(data[\"Predicted\"] < y, \"Under Prediction\", \"Exact\"))\n",
        "\n",
        "print(\"Intercept:\", intercept)\n",
        "print(\"Coefficient for Webinars:\", coef_webinars)\n",
        "print(\"Coefficient for Blogs:\", coef_blogs)\n",
        "print(\"Baseline:\", baseline)\n",
        "print(data)\n"
      ],
      "metadata": {
        "colab": {
          "base_uri": "https://localhost:8080/"
        },
        "id": "hjpYIulzDzPH",
        "outputId": "18a14f20-aaac-4778-d535-c443188c476a"
      },
      "execution_count": 3,
      "outputs": [
        {
          "output_type": "stream",
          "name": "stdout",
          "text": [
            "Intercept: 15.58823529411766\n",
            "Coefficient for Webinars: 7.745098039215684\n",
            "Coefficient for Blogs: 4.274509803921567\n",
            "Baseline: 47.0\n",
            "   Webinars  Blogs  Signups  Predicted  SHAP_Webinars  SHAP_Blogs  \\\n",
            "0         3      5       60  60.196078       4.647059     8.54902   \n",
            "1         2      3       45  43.901961      -3.098039     0.00000   \n",
            "2         1      4       40  40.431373     -10.843137     4.27451   \n",
            "3         4      2       55  55.117647      12.392157    -4.27451   \n",
            "4         2      1       35  35.352941      -3.098039    -8.54902   \n",
            "\n",
            "   Baseline+SHAP Prediction_Comparison  \n",
            "0      60.196078       Over Prediction  \n",
            "1      43.901961      Under Prediction  \n",
            "2      40.431373       Over Prediction  \n",
            "3      55.117647       Over Prediction  \n",
            "4      35.352941       Over Prediction  \n"
          ]
        }
      ]
    },
    {
      "cell_type": "markdown",
      "source": [
        "# Problem - 3"
      ],
      "metadata": {
        "id": "ZdLNa6YJD1Nz"
      }
    },
    {
      "cell_type": "code",
      "source": [
        "import pandas as pd\n",
        "import numpy as np\n",
        "from sklearn.datasets import load_diabetes\n",
        "from sklearn.linear_model import LinearRegression\n",
        "from sklearn.model_selection import train_test_split\n",
        "\n",
        "data = load_diabetes()\n",
        "X = pd.DataFrame(data.data, columns=data.feature_names)\n",
        "y = pd.Series(data.target, name=\"Disease_Progression\")\n",
        "\n",
        "X_train, X_test, y_train, y_test = train_test_split(X, y, test_size=0.2, random_state=42)\n",
        "\n",
        "model = LinearRegression()\n",
        "model.fit(X_train, y_train)\n",
        "\n",
        "baseline = y_train.mean()\n",
        "\n",
        "y_pred = model.predict(X_test)\n",
        "\n",
        "coef = model.coef_\n",
        "feature_means = X_train.mean()\n",
        "\n",
        "shap_values = pd.DataFrame((X_test - feature_means) * coef, columns=X_test.columns)\n",
        "\n",
        "shap_values[\"Baseline\"] = baseline\n",
        "shap_values[\"Prediction_from_SHAP\"] = shap_values.sum(axis=1)\n",
        "shap_values[\"Predicted\"] = y_pred\n",
        "shap_values[\"Actual\"] = y_test.values\n",
        "\n",
        "shap_values[\"Prediction_Comparison\"] = np.where(y_pred > y_test, \"Over Prediction\",\n",
        "                                               np.where(y_pred < y_test, \"Under Prediction\", \"Exact\"))\n",
        "\n",
        "print(\"Intercept:\", model.intercept_)\n",
        "print(\"Coefficients:\", dict(zip(X.columns, coef)))\n",
        "print(\"Baseline:\", baseline)\n",
        "print(shap_values)\n"
      ],
      "metadata": {
        "colab": {
          "base_uri": "https://localhost:8080/"
        },
        "id": "ff6xzvU_D3kd",
        "outputId": "53209f5a-e018-47e3-ceb4-f1ed0f3bcd2d"
      },
      "execution_count": 4,
      "outputs": [
        {
          "output_type": "stream",
          "name": "stdout",
          "text": [
            "Intercept: 151.34560453985995\n",
            "Coefficients: {'age': np.float64(37.904021350074984), 'sex': np.float64(-241.96436231273995), 'bmi': np.float64(542.4287585162899), 'bp': np.float64(347.70384391385636), 's1': np.float64(-931.4888458835163), 's2': np.float64(518.0622769833376), 's3': np.float64(163.41998299131035), 's4': np.float64(275.3179015786484), 's5': np.float64(736.1988589046839), 's6': np.float64(48.67065743196543)}\n",
            "Baseline: 153.73654390934846\n",
            "          age        sex        bmi         bp          s1         s2  \\\n",
            "287  1.663955  10.846180  -4.307759  -5.972983 -116.970979  65.277976   \n",
            "211  3.453897  10.846180  19.077692   7.195035   22.732658  -8.212397   \n",
            "72   2.352394 -12.218287  -3.138486  -4.775890  -96.464023  25.693757   \n",
            "321  3.591585  10.846180  27.262599  27.150567  -51.605057  19.366772   \n",
            "73   0.424765 -12.218287 -11.908030  -1.184613  -36.224840  27.964983   \n",
            "..        ...        ...        ...        ...         ...        ...   \n",
            "255  0.011702  10.846180 -36.462754  -2.381705    6.070756  -9.672471   \n",
            "90   0.424765  10.846180 -14.831212 -14.352631   27.859397 -22.975364   \n",
            "57  -1.089801  10.846180 -35.293481 -17.943908   82.971840 -53.636911   \n",
            "391 -0.952113  10.846180 -38.801299 -22.732278   54.774776 -25.733281   \n",
            "24  -2.466679  10.846180  18.493055  -8.367168   27.859397  -9.348010   \n",
            "\n",
            "            s3         s4         s5        s6    Baseline  \\\n",
            "287   3.297162   9.342171  22.981379 -0.346088  153.736544   \n",
            "211   0.288896 -10.976907 -17.471904 -1.152484  153.736544   \n",
            "72    9.313694  -0.817368  61.307307 -0.950885  153.736544   \n",
            "321 -12.345821  38.804835  71.729329  2.879497  153.736544   \n",
            "73   -0.914411   9.342171  -4.680936 -0.547687  153.736544   \n",
            "..         ...        ...        ...       ...         ...   \n",
            "255   6.907081 -10.976907  -3.325335  0.258709  153.736544   \n",
            "90   12.923613 -21.136446 -53.999312  0.460308  153.736544   \n",
            "57    8.712040 -21.136446 -42.235111 -3.370074  153.736544   \n",
            "391   3.297162 -10.976907 -66.515134 -2.563678  153.736544   \n",
            "24   -0.914411  -0.817368 -20.001912 -2.765277  153.736544   \n",
            "\n",
            "     Prediction_from_SHAP   Predicted  Actual Prediction_Comparison  \n",
            "287            139.547558  139.547558   219.0      Under Prediction  \n",
            "211            179.517208  179.517208    70.0       Over Prediction  \n",
            "72             134.038756  134.038756   202.0      Under Prediction  \n",
            "321            291.417029  291.417029   230.0       Over Prediction  \n",
            "73             123.789659  123.789659   111.0       Over Prediction  \n",
            "..                    ...         ...     ...                   ...  \n",
            "255            115.011800  115.011800   153.0      Under Prediction  \n",
            "90              78.955842   78.955842    98.0      Under Prediction  \n",
            "57              81.560873   81.560873    37.0       Over Prediction  \n",
            "391             54.379973   54.379973    63.0      Under Prediction  \n",
            "24             166.254352  166.254352   184.0      Under Prediction  \n",
            "\n",
            "[89 rows x 15 columns]\n"
          ]
        }
      ]
    },
    {
      "cell_type": "markdown",
      "source": [
        "# Problem - 4"
      ],
      "metadata": {
        "id": "9AcVxgXlEGMF"
      }
    },
    {
      "cell_type": "code",
      "source": [
        "import pandas as pd\n",
        "import numpy as np\n",
        "from sklearn.linear_model import LinearRegression\n",
        "from sklearn.model_selection import train_test_split\n",
        "import shap\n",
        "\n",
        "data = pd.DataFrame({\n",
        "    \"studytime\": [2, 3, 1, 4, 2, 3, 1, 4, 3, 2],\n",
        "    \"failures\": [0, 1, 0, 2, 1, 0, 3, 0, 1, 2],\n",
        "    \"health\": [5, 3, 4, 2, 4, 5, 3, 1, 4, 2],\n",
        "    \"absences\": [2, 10, 4, 6, 8, 3, 12, 1, 5, 7],\n",
        "    \"G3\": [15, 12, 14, 10, 11, 16, 8, 18, 13, 9]\n",
        "})\n",
        "\n",
        "features = data.drop(columns=[\"G3\"])\n",
        "target = data[\"G3\"]\n",
        "\n",
        "X_train, X_test, y_train, y_test = train_test_split(features, target, test_size=0.3, random_state=42)\n",
        "\n",
        "model = LinearRegression()\n",
        "model.fit(X_train, y_train)\n",
        "\n",
        "baseline = y_train.mean()\n",
        "\n",
        "y_pred = model.predict(X_test)\n",
        "\n",
        "explainer = shap.Explainer(model, X_train)\n",
        "shap_values = explainer(X_test)\n",
        "\n",
        "shap_df = pd.DataFrame(shap_values.values, columns=X_test.columns)\n",
        "shap_df[\"Baseline\"] = baseline\n",
        "shap_df[\"Prediction_from_SHAP\"] = shap_df.sum(axis=1) + baseline\n",
        "shap_df[\"Predicted\"] = y_pred\n",
        "shap_df[\"Actual\"] = y_test.values\n",
        "shap_df[\"Prediction_Comparison\"] = np.where(y_pred > y_test, \"Over Prediction\",\n",
        "                                            np.where(y_pred < y_test, \"Under Prediction\", \"Exact\"))\n",
        "\n",
        "print(\"Intercept:\", model.intercept_)\n",
        "print(\"Coefficients:\", dict(zip(X_train.columns, model.coef_)))\n",
        "print(\"Baseline:\", baseline)\n",
        "print(shap_df)\n"
      ],
      "metadata": {
        "colab": {
          "base_uri": "https://localhost:8080/"
        },
        "id": "oGeM5kSSEJEx",
        "outputId": "6093c056-36a5-441d-a57a-16881d797efa"
      },
      "execution_count": 6,
      "outputs": [
        {
          "output_type": "stream",
          "name": "stdout",
          "text": [
            "Intercept: 17.537911869789596\n",
            "Coefficients: {'studytime': np.float64(0.043491685413083916), 'failures': np.float64(-2.555467337126729), 'health': np.float64(-0.6023113228353406), 'absences': np.float64(-0.1342243394645135)}\n",
            "Baseline: 12.142857142857142\n",
            "   studytime  failures    health  absences   Baseline  Prediction_from_SHAP  \\\n",
            "0   0.031065  0.365067 -0.602311  0.095875  12.142857             24.175410   \n",
            "1   0.031065  0.365067 -0.000000 -0.575247  12.142857             24.106599   \n",
            "2   0.031065  2.920534 -1.204623  0.364323  12.142857             26.397014   \n",
            "\n",
            "   Predicted  Actual Prediction_Comparison  \n",
            "0  12.032553      13      Under Prediction  \n",
            "1  11.963742      12      Under Prediction  \n",
            "2  14.254157      16      Under Prediction  \n"
          ]
        }
      ]
    }
  ]
}